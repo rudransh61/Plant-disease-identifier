{
 "cells": [
  {
   "cell_type": "code",
   "execution_count": null,
   "id": "ff2ef618-8478-449c-94b3-cae185f02267",
   "metadata": {},
   "outputs": [],
   "source": [
    "import tensorflow as tf\n",
    "from tensoreflow.keras import models , layers\n",
    "import matplotlib.pyplot as plt"
   ]
  },
  {
   "cell_type": "code",
   "execution_count": null,
   "id": "07e8bdcb-d274-4d18-924a-fca0f3e4e24d",
   "metadata": {},
   "outputs": [],
   "source": [
    "tf.keras.preprocessing.image_dataset_from_directory"
   ]
  }
 ],
 "metadata": {
  "kernelspec": {
   "display_name": "Python 3 (ipykernel)",
   "language": "python",
   "name": "python3"
  },
  "language_info": {
   "codemirror_mode": {
    "name": "ipython",
    "version": 3
   },
   "file_extension": ".py",
   "mimetype": "text/x-python",
   "name": "python",
   "nbconvert_exporter": "python",
   "pygments_lexer": "ipython3",
   "version": "3.10.9"
  }
 },
 "nbformat": 4,
 "nbformat_minor": 5
}
